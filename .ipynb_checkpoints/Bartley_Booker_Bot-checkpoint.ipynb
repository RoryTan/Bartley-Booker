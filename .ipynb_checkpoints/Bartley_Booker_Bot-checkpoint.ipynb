{
 "cells": [
  {
   "cell_type": "code",
   "execution_count": 9,
   "metadata": {},
   "outputs": [],
   "source": [
    "from config import *\n",
    "from selenium import webdriver\n",
    "from selenium.webdriver.chrome.options import Options\n",
    "import sys\n",
    "import datetime\n",
    "import time"
   ]
  },
  {
   "cell_type": "code",
   "execution_count": 10,
   "metadata": {},
   "outputs": [],
   "source": [
    "#Get date 2 weeks from now and convert to urlstring\n",
    "def get_url(booking_url):\n",
    "    book_date = datetime.datetime.today() + datetime.timedelta(days=15)\n",
    "    book_date_str = book_date.strftime('%Y-%m-%d')\n",
    "    booking_date_url = booking_url + book_date_str\n",
    "    return booking_date_url\n",
    "\n",
    "#Convert get_date() into xpath\n",
    "def booking_xpath(day_slot):\n",
    "    xpath = '//*[@id=\"GridTable\"]/tbody/tr[2]/td[' + day_slot +']'\n",
    "    return xpath\n",
    "def write_out(message):\n",
    "     with open('Bartley_Booker_Logs.txt','a+') as f:\n",
    "                f.write(datetime.datetime.today().strftime('%Y-%m-%d:%H:%M') + \\\n",
    "                         \": \"+ message + \"\\n\")"
   ]
  },
  {
   "cell_type": "code",
   "execution_count": 11,
   "metadata": {},
   "outputs": [],
   "source": [
    "def book_facility():\n",
    "    day_slots = slots[(datetime.datetime.today() + datetime.timedelta(days=1)).weekday()]\n",
    "    \n",
    "    if day_slots:\n",
    "        write_out('Found desired booking slots, initating booking')\n",
    "        \n",
    "        try:            \n",
    "            #Run Headless\n",
    "            chrome_options = Options()\n",
    "            chrome_options.add_argument(\"--headless\")\n",
    "            driver = webdriver.Chrome('./chromedriver_win32/chromedriver.exe',options=chrome_options)\n",
    "#             driver = webdriver.Chrome('./chromedriver_win32/chromedriver.exe')\n",
    "            driver.get(get_url(keys['booking_url']))\n",
    "            driver.find_element_by_xpath('//*[@id=\"txtUser\"]').send_keys(keys[\"user_id\"]) #User\n",
    "            driver.find_element_by_xpath('//*[@id=\"txtPassword\"]').send_keys(keys[\"password\"]) #Password\n",
    "            driver.find_element_by_xpath('//*[@id=\"PageContentArea\"]/form[1]/table/tbody/tr/td/table/tbody/tr/td/input[3]').click() #Submit\n",
    "            #Wait for 12\n",
    "            curr = datetime.datetime.now()\n",
    "            start = (datetime.datetime.today() + datetime.timedelta(days=1)).replace(hour=0, minute=0, second=0, microsecond=0)\n",
    "            wait_time = start - curr\n",
    "            write_out('Waiting for {}'.format(wait_time))\n",
    "            wait_time_int = wait_time.total_seconds()            \n",
    "            time.sleep(wait_time_int)\n",
    "            write_out('Starting...')\n",
    "            driver.refresh()\n",
    "        except:\n",
    "            write_out(\"Failed to logon, exiting webdriver\")\n",
    "            driver.quit()\n",
    "            \n",
    "        #Select slots            \n",
    "        for day_slot in day_slots:\n",
    "            try:\n",
    "                write_out('Trying to book for slot' + frame[day_slot])\n",
    "                driver.find_element_by_xpath(booking_xpath(frame[day_slot])).click()                                        \n",
    "            except:                    \n",
    "                write_out('Failed to book for slot'+ frame[day_slot])\n",
    "                continue            \n",
    "\n",
    "        #Submit booking            \n",
    "        try:\n",
    "            driver.find_element_by_xpath('//*[@id=\"HeaderTable\"]/tbody/tr[1]/td/input[2]').click()\n",
    "            driver.switch_to.window(driver.window_handles[1])\n",
    "            driver.find_element_by_xpath('//*[@id=\"SubPageContentArea\"]/form/table/tbody/tr[5]/td/input').click()        \n",
    "        except:\n",
    "            write_out(\"No available slots\")\n",
    "        \n",
    "        driver.quit()\n",
    "    else:\n",
    "        write_out('Found no desired booking slots for ' + datetime.datetime.today().weekday())                "
   ]
  },
  {
   "cell_type": "code",
   "execution_count": 12,
   "metadata": {
    "scrolled": false
   },
   "outputs": [],
   "source": [
    "if __name__ == '__main__':\n",
    "    book_facility()"
   ]
  }
 ],
 "metadata": {
  "kernelspec": {
   "display_name": "Python 3",
   "language": "python",
   "name": "python3"
  },
  "language_info": {
   "codemirror_mode": {
    "name": "ipython",
    "version": 3
   },
   "file_extension": ".py",
   "mimetype": "text/x-python",
   "name": "python",
   "nbconvert_exporter": "python",
   "pygments_lexer": "ipython3",
   "version": "3.7.1"
  }
 },
 "nbformat": 4,
 "nbformat_minor": 2
}
