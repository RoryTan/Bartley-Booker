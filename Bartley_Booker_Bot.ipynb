{
 "cells": [
  {
   "cell_type": "code",
   "execution_count": 9,
   "metadata": {},
   "outputs": [],
   "source": [
    "from config import keys\n",
    "from config import slots\n",
    "from config import frame\n",
    "from selenium import webdriver\n",
    "import datetime"
   ]
  },
  {
   "cell_type": "code",
   "execution_count": 10,
   "metadata": {},
   "outputs": [],
   "source": [
    "#Pick slots\n",
    "day_slots = slots[datetime.datetime.today().weekday()]"
   ]
  },
  {
   "cell_type": "code",
   "execution_count": 11,
   "metadata": {},
   "outputs": [],
   "source": [
    "#Get date 2 weeks from now and convert to urlstring\n",
    "def get_url(booking_url):\n",
    "    book_date = datetime.datetime.today() + datetime.timedelta(days=14)\n",
    "    book_date_str = book_date.strftime('%Y-%m-%d')\n",
    "    booking_date_url = booking_url + book_date_str\n",
    "    return booking_date_url\n",
    "\n",
    "#Convert get_date() into xpath\n",
    "def booking_xpath(day_slot):\n",
    "    xpath = '//*[@id=\"GridTable\"]/tbody/tr[2]/td[' + day_slot +']'\n",
    "    return xpath"
   ]
  },
  {
   "cell_type": "code",
   "execution_count": 12,
   "metadata": {},
   "outputs": [],
   "source": [
    "def book_facility():\n",
    "    try:\n",
    "        #Go to URl & login\n",
    "        driver = webdriver.Chrome('./chromedriver_win32/chromedriver.exe')\n",
    "        driver.get(get_url(keys['booking_url']))\n",
    "        driver.find_element_by_xpath('//*[@id=\"txtUser\"]').send_keys(keys[\"user_id\"]) #User\n",
    "        driver.find_element_by_xpath('//*[@id=\"txtPassword\"]').send_keys(keys[\"password\"]) #Password\n",
    "        driver.find_element_by_xpath('//*[@id=\"PageContentArea\"]/form[1]/table/tbody/tr/td/table/tbody/tr/td/input[3]').click() #Submit Logon        \n",
    "        #Select slots\n",
    "        for day_slot in day_slots:\n",
    "            try:\n",
    "                driver.find_element_by_xpath(booking_xpath(frame[day_slot])).click()\n",
    "            except:\n",
    "                continue\n",
    "        #Submit booking\n",
    "        driver.find_element_by_xpath('//*[@id=\"HeaderTable\"]/tbody/tr[1]/td/input[2]').click()\n",
    "        driver.switch_to.window(driver.window_handles[1])\n",
    "        driver.find_element_by_xpath('//*[@id=\"SubPageContentArea\"]/form/table/tbody/tr[5]/td/input').click()        \n",
    "        driver.quit()\n",
    "        #func to quit\n",
    "        #write out log file success\n",
    "        with open('Bartley_Booker_Logs.txt','a+') as f:\n",
    "            f.write(\"Success \" + get_url() + \" @ \" + slot + \"\\r\\n\")\n",
    "    except:\n",
    "        with open('Bartley_Booker_Logs.txt','a+') as f:\n",
    "            f.write(\"Failure \" + get_url() + \" @ \" + slot + \"\\r\\n\")"
   ]
  },
  {
   "cell_type": "code",
   "execution_count": 13,
   "metadata": {
    "scrolled": false
   },
   "outputs": [
    {
     "ename": "TypeError",
     "evalue": "get_url() missing 1 required positional argument: 'booking_url'",
     "output_type": "error",
     "traceback": [
      "\u001b[1;31m---------------------------------------------------------------------------\u001b[0m",
      "\u001b[1;31mTypeError\u001b[0m                                 Traceback (most recent call last)",
      "\u001b[1;32m<ipython-input-12-cbf058fdb12a>\u001b[0m in \u001b[0;36mbook_facility\u001b[1;34m()\u001b[0m\n\u001b[0;32m     22\u001b[0m         \u001b[1;32mwith\u001b[0m \u001b[0mopen\u001b[0m\u001b[1;33m(\u001b[0m\u001b[1;34m'Bartley_Booker_Logs.txt'\u001b[0m\u001b[1;33m,\u001b[0m\u001b[1;34m'a+'\u001b[0m\u001b[1;33m)\u001b[0m \u001b[1;32mas\u001b[0m \u001b[0mf\u001b[0m\u001b[1;33m:\u001b[0m\u001b[1;33m\u001b[0m\u001b[1;33m\u001b[0m\u001b[0m\n\u001b[1;32m---> 23\u001b[1;33m             \u001b[0mf\u001b[0m\u001b[1;33m.\u001b[0m\u001b[0mwrite\u001b[0m\u001b[1;33m(\u001b[0m\u001b[1;34m\"Success \"\u001b[0m \u001b[1;33m+\u001b[0m \u001b[0mget_url\u001b[0m\u001b[1;33m(\u001b[0m\u001b[1;33m)\u001b[0m \u001b[1;33m+\u001b[0m \u001b[1;34m\" @ \"\u001b[0m \u001b[1;33m+\u001b[0m \u001b[0mslot\u001b[0m \u001b[1;33m+\u001b[0m \u001b[1;34m\"\\r\\n\"\u001b[0m\u001b[1;33m)\u001b[0m\u001b[1;33m\u001b[0m\u001b[1;33m\u001b[0m\u001b[0m\n\u001b[0m\u001b[0;32m     24\u001b[0m     \u001b[1;32mexcept\u001b[0m\u001b[1;33m:\u001b[0m\u001b[1;33m\u001b[0m\u001b[1;33m\u001b[0m\u001b[0m\n",
      "\u001b[1;31mTypeError\u001b[0m: get_url() missing 1 required positional argument: 'booking_url'",
      "\nDuring handling of the above exception, another exception occurred:\n",
      "\u001b[1;31mTypeError\u001b[0m                                 Traceback (most recent call last)",
      "\u001b[1;32m<ipython-input-13-8da6374e9f3e>\u001b[0m in \u001b[0;36m<module>\u001b[1;34m\u001b[0m\n\u001b[0;32m      1\u001b[0m \u001b[1;32mif\u001b[0m \u001b[0m__name__\u001b[0m \u001b[1;33m==\u001b[0m \u001b[1;34m'__main__'\u001b[0m\u001b[1;33m:\u001b[0m\u001b[1;33m\u001b[0m\u001b[1;33m\u001b[0m\u001b[0m\n\u001b[1;32m----> 2\u001b[1;33m     \u001b[0mbook_facility\u001b[0m\u001b[1;33m(\u001b[0m\u001b[1;33m)\u001b[0m\u001b[1;33m\u001b[0m\u001b[1;33m\u001b[0m\u001b[0m\n\u001b[0m",
      "\u001b[1;32m<ipython-input-12-cbf058fdb12a>\u001b[0m in \u001b[0;36mbook_facility\u001b[1;34m()\u001b[0m\n\u001b[0;32m     24\u001b[0m     \u001b[1;32mexcept\u001b[0m\u001b[1;33m:\u001b[0m\u001b[1;33m\u001b[0m\u001b[1;33m\u001b[0m\u001b[0m\n\u001b[0;32m     25\u001b[0m         \u001b[1;32mwith\u001b[0m \u001b[0mopen\u001b[0m\u001b[1;33m(\u001b[0m\u001b[1;34m'Bartley_Booker_Logs.txt'\u001b[0m\u001b[1;33m,\u001b[0m\u001b[1;34m'a+'\u001b[0m\u001b[1;33m)\u001b[0m \u001b[1;32mas\u001b[0m \u001b[0mf\u001b[0m\u001b[1;33m:\u001b[0m\u001b[1;33m\u001b[0m\u001b[1;33m\u001b[0m\u001b[0m\n\u001b[1;32m---> 26\u001b[1;33m             \u001b[0mf\u001b[0m\u001b[1;33m.\u001b[0m\u001b[0mwrite\u001b[0m\u001b[1;33m(\u001b[0m\u001b[1;34m\"Failure \"\u001b[0m \u001b[1;33m+\u001b[0m \u001b[0mget_url\u001b[0m\u001b[1;33m(\u001b[0m\u001b[1;33m)\u001b[0m \u001b[1;33m+\u001b[0m \u001b[1;34m\" @ \"\u001b[0m \u001b[1;33m+\u001b[0m \u001b[0mslot\u001b[0m \u001b[1;33m+\u001b[0m \u001b[1;34m\"\\r\\n\"\u001b[0m\u001b[1;33m)\u001b[0m\u001b[1;33m\u001b[0m\u001b[1;33m\u001b[0m\u001b[0m\n\u001b[0m",
      "\u001b[1;31mTypeError\u001b[0m: get_url() missing 1 required positional argument: 'booking_url'"
     ]
    }
   ],
   "source": [
    "if __name__ == '__main__':\n",
    "    book_facility()"
   ]
  },
  {
   "cell_type": "code",
   "execution_count": null,
   "metadata": {},
   "outputs": [],
   "source": []
  }
 ],
 "metadata": {
  "kernelspec": {
   "display_name": "Python 3",
   "language": "python",
   "name": "python3"
  },
  "language_info": {
   "codemirror_mode": {
    "name": "ipython",
    "version": 3
   },
   "file_extension": ".py",
   "mimetype": "text/x-python",
   "name": "python",
   "nbconvert_exporter": "python",
   "pygments_lexer": "ipython3",
   "version": "3.7.1"
  }
 },
 "nbformat": 4,
 "nbformat_minor": 2
}
