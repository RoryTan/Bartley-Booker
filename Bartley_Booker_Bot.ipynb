{
 "cells": [
  {
   "cell_type": "markdown",
   "metadata": {},
   "source": [
    "# Bartley Booking Bot"
   ]
  },
  {
   "cell_type": "markdown",
   "metadata": {},
   "source": [
    "### Import Packages"
   ]
  },
  {
   "cell_type": "code",
   "execution_count": null,
   "metadata": {},
   "outputs": [],
   "source": [
    "from config import *\n",
    "from selenium import webdriver\n",
    "from selenium.webdriver.chrome.options import Options\n",
    "import json\n",
    "import datetime\n",
    "import time\n",
    "from apiclient.discovery import build\n",
    "from google_auth_oauthlib.flow import InstalledAppFlow\n",
    "import pickle\n",
    "# import datefinder"
   ]
  },
  {
   "cell_type": "markdown",
   "metadata": {},
   "source": [
    "### Helper Functions"
   ]
  },
  {
   "cell_type": "code",
   "execution_count": null,
   "metadata": {},
   "outputs": [],
   "source": [
    "#Get date 2 weeks from now and convert to urlstring\n",
    "def get_url(booking_url):\n",
    "    book_date = datetime.datetime.today() + datetime.timedelta(days=15)#use 14 when testing 15 when executing\n",
    "    # book_date = datetime.datetime.today() + datetime.timedelta(days=14)#use 14 when testing 15 when executing\n",
    "    book_date_str = book_date.strftime('%Y-%m-%d')\n",
    "    booking_date_url = booking_url + book_date_str\n",
    "    return booking_date_url\n",
    "\n",
    "#Convert get_date() into xpath\n",
    "def booking_xpath(day_slot):\n",
    "    xpath = '//*[@id=\"GridTable\"]/tbody/tr[2]/td[' + day_slot +']'\n",
    "    return xpath\n",
    "def write_out(message):\n",
    "     with open('Bartley_Booker_Logs.txt','a+') as f:\n",
    "                f.write(datetime.datetime.today().strftime('%Y-%m-%d:%H:%M:%S') + \": \"+ message + \"\\n\")\n",
    "# Wait for 1200:01\n",
    "def wait_for_tomorrow():    \n",
    "    curr = datetime.datetime.today()\n",
    "    start = (datetime.datetime.today() + datetime.timedelta(days=1)).replace(hour=0, minute=0, second=4, microsecond=0)\n",
    "    wait_time = start - curr\n",
    "    wait_time_int = wait_time.total_seconds()    \n",
    "    write_out('Waiting for {}'.format(wait_time_int))\n",
    "    return wait_time_int\n",
    "\n",
    "def create_event(book_time,duration = 1, time_zone = 'Asia/Singapore'):\n",
    "    \n",
    "    credentials = pickle.load(open(\"token.pkl\", \"rb\"))\n",
    "    service = build(\"calendar\", \"v3\", credentials = credentials)\n",
    "    calendar_id = 'rory.tan@gmail.com'\n",
    "    \n",
    "    book_time_end = book_time + datetime.timedelta(hours =1)    \n",
    "    event = {\n",
    "      'summary': 'Bartley Tennis Court Booking',\n",
    "      'location': 'Bartley Ridge, Singapore 368063',  \n",
    "      'start': {\n",
    "        'dateTime': book_time.strftime(\"%Y-%m-%dT%H:%M:%S\"),\n",
    "        'timeZone': time_zone,\n",
    "      },\n",
    "      'end': {\n",
    "        'dateTime': book_time_end.strftime(\"%Y-%m-%dT%H:%M:%S\"),\n",
    "        'timeZone': time_zone,\n",
    "      },\n",
    "      'attendees': [\n",
    "        {'email': 'angelamacherie@gmail.com'}\n",
    "      ],\n",
    "        'colorId': '10',\n",
    "      'reminders': {\n",
    "        'useDefault': False,\n",
    "        'overrides': [\n",
    "          {'method': 'email', 'minutes': 24 * 60},\n",
    "          {'method': 'popup', 'minutes': 60},\n",
    "        ],\n",
    "      },\n",
    "    }\n",
    "    return service.events().insert(calendarId=calendar_id, body=event).execute()"
   ]
  },
  {
   "cell_type": "markdown",
   "metadata": {},
   "source": [
    "### Facility booking"
   ]
  },
  {
   "cell_type": "code",
   "execution_count": null,
   "metadata": {},
   "outputs": [],
   "source": [
    "def book_facility():\n",
    "    day_slots = slots[(datetime.datetime.today() + datetime.timedelta(days=1)).weekday()] #use 0 when testing 1 when executing\n",
    "    # day_slots = slots[(datetime.datetime.today() + datetime.timedelta(days=0)).weekday()] #use 0 when testing 1 when executing\n",
    "\n",
    "    if day_slots:\n",
    "        write_out('Found desired booking slots, initating booking')\n",
    "\n",
    "        try:            \n",
    "            #Run Headless\n",
    "            chrome_options = Options()\n",
    "            chrome_options.add_argument(\"--headless\")\n",
    "            driver = webdriver.Chrome('./chromedriver_win32/chromedriver.exe',options=chrome_options)\n",
    "            # driver = webdriver.Chrome('./chromedriver_win32/chromedriver.exe')\n",
    "            driver.get(get_url(keys['booking_url']))\n",
    "            driver.find_element_by_xpath('//*[@id=\"txtUser\"]').send_keys(keys[\"user_id\"]) #User\n",
    "            driver.find_element_by_xpath('//*[@id=\"txtPassword\"]').send_keys(keys[\"password\"]) #Password\n",
    "            time.sleep(wait_for_tomorrow())\n",
    "            write_out('Logging in...')            \n",
    "            driver.find_element_by_xpath('//*[@id=\"PageContentArea\"]/form[1]/table/tbody/tr/td/table/tbody/tr/td/input[3]').click() #Submit                        \n",
    "        except:\n",
    "            driver.quit()\n",
    "\n",
    "        for i in range(3):\n",
    "            try:\n",
    "                #refresh at midnight\n",
    "                write_out(\"Starting attempt \" + str(i+1))\n",
    "\n",
    "                #Select slots with loop            \n",
    "                for day_slot in day_slots:\n",
    "                    try:\n",
    "                        write_out('Trying to book for slot' + frame[day_slot])\n",
    "                        driver.find_element_by_xpath(booking_xpath(frame[day_slot])).click()                                        \n",
    "                    except:                    \n",
    "                        continue\n",
    "                #Attempt to submit booking            \n",
    "                try:\n",
    "                    driver.find_element_by_xpath('//*[@id=\"HeaderTable\"]/tbody/tr[1]/td/input[2]').click()\n",
    "                except:\n",
    "                    time.sleep(1)\n",
    "                    driver.refresh()\n",
    "                    continue\n",
    "                try:\n",
    "                    driver.switch_to.window(driver.window_handles[1])\n",
    "                    driver.find_element_by_xpath('//*[@id=\"SubPageContentArea\"]/form/table/tbody/tr[5]/td/input').click()\n",
    "                    break\n",
    "                except Exception as err:\n",
    "                    write_out(\"Try failure: \" + str(err))\n",
    "                    continue                       \n",
    "            except Exception as e:\n",
    "                write_out(\"Total Failure: \" + str(e))\n",
    "\n",
    "        #Exit Chrome Driver\n",
    "        driver.quit()\n",
    "        write_out(\"----------End of Booking----------\") \n",
    "    else:\n",
    "        write_out('Found no desired booking slots for ' + datetime.datetime.today().weekday()) "
   ]
  },
  {
   "cell_type": "markdown",
   "metadata": {},
   "source": [
    "### Booking Verification & Calendar Invite"
   ]
  },
  {
   "cell_type": "code",
   "execution_count": null,
   "metadata": {},
   "outputs": [],
   "source": [
    "def verify_bookings():\n",
    "    \n",
    "    chrome_options = Options()\n",
    "    chrome_options.add_argument(\"--headless\")\n",
    "    driver = webdriver.Chrome('./chromedriver_win32/chromedriver.exe',options=chrome_options)\n",
    "#     driver = webdriver.Chrome('./chromedriver_win32/chromedriver.exe')\n",
    "    driver.get('http://bartleyrid.gotdns.com:8081/booking/mybookings.aspx?')\n",
    "    driver.find_element_by_xpath('//*[@id=\"txtUser\"]').send_keys(keys[\"user_id\"]) #User\n",
    "    driver.find_element_by_xpath('//*[@id=\"txtPassword\"]').send_keys(keys[\"password\"]) #Password\n",
    "    driver.find_element_by_xpath('//*[@id=\"PageContentArea\"]/form[1]/table/tbody/tr/td/table/tbody/tr/td/input[3]').click() #Submit\n",
    "    \n",
    "    book_date = datetime.datetime.today() + datetime.timedelta(days=14)\n",
    "    book_date_str = book_date.strftime('%d/%m/%Y')\n",
    "    \n",
    "    booking_list = []\n",
    "    booking_info = {}    \n",
    "    id_list=[]\n",
    "    tbl = driver.find_element_by_id(\"Table1\")\n",
    "    ids = tbl.find_elements_by_xpath('//*[@id]')\n",
    "    #Get a list of Ids from all items with IDs\n",
    "    elements = [x for x in ids if x.get_attribute('id').startswith('ID_')]\n",
    "    for element in elements:\n",
    "        sub_element = element.find_elements_by_class_name(\"form3\")\n",
    "        booking_date = sub_element[0].text\n",
    "        book_time = sub_element[1].text\n",
    "        facility = sub_element[2].text\n",
    "\n",
    "        booking_info = {'date': booking_date,\n",
    "                        'time' : book_time,\n",
    "                        'facility': facility}\n",
    "        \n",
    "        booking_list.append(booking_info)\n",
    "\n",
    "    for booking in booking_list:\n",
    "        if booking['date'] == book_date_str:\n",
    "            book_time_str = booking['date'] + \" \" + booking['time']\n",
    "            book_time = datetime.datetime.strptime(book_time_str, '%d/%m/%Y %I%p')\n",
    "            create_event(book_time)\n",
    "            write_out(json.dumps(booking))\n",
    "        else:\n",
    "            continue\n",
    "    driver.quit()\n",
    "    write_out(\"----------End of Verification----------\")"
   ]
  },
  {
   "cell_type": "code",
   "execution_count": null,
   "metadata": {},
   "outputs": [],
   "source": [
    "if __name__ == '__main__':\n",
    "    book_facility()\n",
    "    verify_bookings()"
   ]
  },
  {
   "cell_type": "markdown",
   "metadata": {},
   "source": [
    "### Test Scripts Invite"
   ]
  },
  {
   "cell_type": "markdown",
   "metadata": {},
   "source": [
    "#### First Time Setup"
   ]
  },
  {
   "cell_type": "code",
   "execution_count": null,
   "metadata": {},
   "outputs": [],
   "source": [
    "# scopes = ['https://www.googleapis.com/auth/calendar']\n",
    "# flow = InstalledAppFlow.from_client_secrets_file(\"Client_secretsfile.json\", scopes=scopes)\n",
    "# credentials = flow.run_console()"
   ]
  },
  {
   "cell_type": "code",
   "execution_count": null,
   "metadata": {},
   "outputs": [],
   "source": [
    "# pickle.dump(credentials, open(\"token.pkl\", \"wb\"))"
   ]
  }
 ],
 "metadata": {
  "kernelspec": {
   "display_name": "Python 3",
   "language": "python",
   "name": "python3"
  },
  "language_info": {
   "codemirror_mode": {
    "name": "ipython",
    "version": 3
   },
   "file_extension": ".py",
   "mimetype": "text/x-python",
   "name": "python",
   "nbconvert_exporter": "python",
   "pygments_lexer": "ipython3",
   "version": "3.7.4"
  }
 },
 "nbformat": 4,
 "nbformat_minor": 2
}
