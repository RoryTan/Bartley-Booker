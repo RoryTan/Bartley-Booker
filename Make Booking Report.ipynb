{
 "cells": [
  {
   "cell_type": "code",
   "execution_count": 1,
   "metadata": {},
   "outputs": [],
   "source": [
    "from config import *\n",
    "from selenium import webdriver\n",
    "import json\n",
    "import sys\n",
    "import datetime\n",
    "import time"
   ]
  },
  {
   "cell_type": "code",
   "execution_count": 2,
   "metadata": {},
   "outputs": [],
   "source": [
    "def write_out(message):\n",
    "     with open('Bartley_Booker_Logs.txt','a+') as f:\n",
    "                f.write(datetime.datetime.today().strftime('%Y-%m-%d:%H:%M:%S') + \": \"+ message + \"\\n\")\n",
    "def verify_bookings():\n",
    "    chrome_options = Options()\n",
    "    chrome_options.add_argument(\"--headless\")\n",
    "    driver = webdriver.Chrome('./chromedriver_win32/chromedriver.exe',options=chrome_options)\n",
    "#     driver = webdriver.Chrome('./chromedriver_win32/chromedriver.exe')\n",
    "    driver.get('http://bartleyrid.gotdns.com:8081/booking/mybookings.aspx?')\n",
    "    driver.find_element_by_xpath('//*[@id=\"txtUser\"]').send_keys(keys[\"user_id\"]) #User\n",
    "    driver.find_element_by_xpath('//*[@id=\"txtPassword\"]').send_keys(keys[\"password\"]) #Password\n",
    "    driver.find_element_by_xpath('//*[@id=\"PageContentArea\"]/form[1]/table/tbody/tr/td/table/tbody/tr/td/input[3]').click() #Submit\n",
    "    \n",
    "    book_date = datetime.datetime.today() + datetime.timedelta(days=14)#use 14 when testing 15 when executing\n",
    "    book_date_str = book_date.strftime('%d/%m/%Y')\n",
    "    booking_list = []\n",
    "    booking_info = {}    \n",
    "    id_list=[]\n",
    "    tbl = driver.find_element_by_id(\"Table1\")\n",
    "    ids = tbl.find_elements_by_xpath('//*[@id]')\n",
    "    #Get a list of Ids from all items with IDs\n",
    "    elements = [x for x in ids if x.get_attribute('id').startswith('ID_')]\n",
    "    for element in elements:\n",
    "        sub_element = element.find_elements_by_class_name(\"form3\")\n",
    "        booking_date = sub_element[0].text\n",
    "        book_time = sub_element[1].text\n",
    "        facility = sub_element[2].text\n",
    "\n",
    "        booking_info = {'date': booking_date,\n",
    "                        'time' : book_time,\n",
    "                        'facility': facility}\n",
    "\n",
    "        booking_list.append(booking_info)\n",
    "\n",
    "    for booking in booking_list:\n",
    "        if booking['date'] == book_date_str:\n",
    "            write_out(json.dumps(booking))\n",
    "        else:\n",
    "            continue\n",
    "    driver.quit()"
   ]
  },
  {
   "cell_type": "code",
   "execution_count": 3,
   "metadata": {},
   "outputs": [],
   "source": []
  },
  {
   "cell_type": "code",
   "execution_count": null,
   "metadata": {},
   "outputs": [],
   "source": []
  }
 ],
 "metadata": {
  "kernelspec": {
   "display_name": "Python 3",
   "language": "python",
   "name": "python3"
  },
  "language_info": {
   "codemirror_mode": {
    "name": "ipython",
    "version": 3
   },
   "file_extension": ".py",
   "mimetype": "text/x-python",
   "name": "python",
   "nbconvert_exporter": "python",
   "pygments_lexer": "ipython3",
   "version": "3.7.1"
  }
 },
 "nbformat": 4,
 "nbformat_minor": 2
}
