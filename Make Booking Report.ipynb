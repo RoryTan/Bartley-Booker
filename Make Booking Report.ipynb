{
 "cells": [
  {
   "cell_type": "code",
   "execution_count": 1,
   "metadata": {},
   "outputs": [],
   "source": [
    "from collections import OrderedDict\n",
    "from config import *\n",
    "from selenium import webdriver\n",
    "import sys\n",
    "import datetime\n",
    "import time\n",
    "\n",
    "driver = webdriver.Chrome('./chromedriver_win32/chromedriver.exe')\n",
    "driver.get('http://bartleyrid.gotdns.com:8081/booking/mybookings.aspx?')\n",
    "driver.find_element_by_xpath('//*[@id=\"txtUser\"]').send_keys(keys[\"user_id\"]) #User\n",
    "driver.find_element_by_xpath('//*[@id=\"txtPassword\"]').send_keys(keys[\"password\"]) #Password\n",
    "driver.find_element_by_xpath('//*[@id=\"PageContentArea\"]/form[1]/table/tbody/tr/td/table/tbody/tr/td/input[3]').click() #Submit"
   ]
  },
  {
   "cell_type": "code",
   "execution_count": 36,
   "metadata": {},
   "outputs": [],
   "source": [
    "booking_list = []\n",
    "booking_info = OrderedDict()\n",
    "items = driver.find_elements_by_class_name(\"t\")\n",
    "\n",
    "for item in items:\n",
    "    sub_items = item.find_elements_by_class_name(\"form3\")\n",
    "    booking_date = sub_items[0].text\n",
    "    book_time = sub_items[1].text\n",
    "    facility = sub_items[2].text\n",
    "    \n",
    "    booking_info = {'booking date': booking_date,\n",
    "                   'book time' : book_time,\n",
    "                   'facility': facility}\n",
    "    \n",
    "    booking_list.append(booking_info)"
   ]
  },
  {
   "cell_type": "code",
   "execution_count": 38,
   "metadata": {},
   "outputs": [
    {
     "data": {
      "text/plain": [
       "{'booking date': '29/09/2019', 'book time': '7am', 'facility': 'Tennis Court'}"
      ]
     },
     "execution_count": 38,
     "metadata": {},
     "output_type": "execute_result"
    }
   ],
   "source": [
    "booking_list[-1]"
   ]
  },
  {
   "cell_type": "code",
   "execution_count": 39,
   "metadata": {},
   "outputs": [],
   "source": []
  },
  {
   "cell_type": "code",
   "execution_count": 40,
   "metadata": {},
   "outputs": [],
   "source": [
    "book_date = datetime.datetime.today() + datetime.timedelta(days=14)"
   ]
  },
  {
   "cell_type": "code",
   "execution_count": 47,
   "metadata": {},
   "outputs": [
    {
     "data": {
      "text/plain": [
       "True"
      ]
     },
     "execution_count": 47,
     "metadata": {},
     "output_type": "execute_result"
    }
   ],
   "source": [
    "some_date = booking_list[-1]['booking date']\n",
    "\n",
    "if some_date == book_date.strftime('%d/%m/%Y'):\n",
    "    create_google_cal_invite()"
   ]
  },
  {
   "cell_type": "code",
   "execution_count": null,
   "metadata": {},
   "outputs": [],
   "source": [
    "driver.quit()"
   ]
  }
 ],
 "metadata": {
  "kernelspec": {
   "display_name": "Python 3",
   "language": "python",
   "name": "python3"
  },
  "language_info": {
   "codemirror_mode": {
    "name": "ipython",
    "version": 3
   },
   "file_extension": ".py",
   "mimetype": "text/x-python",
   "name": "python",
   "nbconvert_exporter": "python",
   "pygments_lexer": "ipython3",
   "version": "3.7.1"
  }
 },
 "nbformat": 4,
 "nbformat_minor": 2
}
